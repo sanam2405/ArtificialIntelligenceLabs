{
  "nbformat": 4,
  "nbformat_minor": 0,
  "metadata": {
    "colab": {
      "provenance": []
    },
    "kernelspec": {
      "name": "python3",
      "display_name": "Python 3"
    },
    "language_info": {
      "name": "python"
    }
  },
  "cells": [
    {
      "cell_type": "code",
      "execution_count": null,
      "metadata": {
        "id": "sCYSYUuTVZ5Q"
      },
      "outputs": [],
      "source": [
        "# Manas Pratim Biswas\n",
        "# 002011001025"
      ]
    },
    {
      "cell_type": "code",
      "source": [
        "# Importing all the necessary files\n",
        "\n",
        "! gdown --id 1Hj2i3QF_BDDeIkwP61AlRIIx1aZThn2f\n",
        "! gdown --id 1JaYLo60gyTQHJhtKz8dWzuUVQUdTbT9W"
      ],
      "metadata": {
        "colab": {
          "base_uri": "https://localhost:8080/"
        },
        "id": "zEtL5_Z-VhFi",
        "outputId": "c8e428c7-f7de-4810-f030-9eb63f67d77e"
      },
      "execution_count": null,
      "outputs": [
        {
          "output_type": "stream",
          "name": "stdout",
          "text": [
            "/usr/local/lib/python3.7/dist-packages/gdown/cli.py:131: FutureWarning: Option `--id` was deprecated in version 4.3.1 and will be removed in 5.0. You don't need to pass it anymore to use a file ID.\n",
            "  category=FutureWarning,\n",
            "Downloading...\n",
            "From: https://drive.google.com/uc?id=1Hj2i3QF_BDDeIkwP61AlRIIx1aZThn2f\n",
            "To: /content/A4Source.txt\n",
            "100% 18.0/18.0 [00:00<00:00, 22.9kB/s]\n",
            "/usr/local/lib/python3.7/dist-packages/gdown/cli.py:131: FutureWarning: Option `--id` was deprecated in version 4.3.1 and will be removed in 5.0. You don't need to pass it anymore to use a file ID.\n",
            "  category=FutureWarning,\n",
            "Downloading...\n",
            "From: https://drive.google.com/uc?id=1JaYLo60gyTQHJhtKz8dWzuUVQUdTbT9W\n",
            "To: /content/A4Destination.txt\n",
            "100% 19.0/19.0 [00:00<00:00, 31.4kB/s]\n"
          ]
        }
      ]
    },
    {
      "cell_type": "code",
      "source": [
        "import tracemalloc\n",
        "import time"
      ],
      "metadata": {
        "id": "V_115UNbVjVS"
      },
      "execution_count": null,
      "outputs": []
    },
    {
      "cell_type": "code",
      "source": [
        "def convertToList(string):\n",
        "    li = list(string.split());\n",
        "    return li;"
      ],
      "metadata": {
        "id": "W3WCDx7aVppv"
      },
      "execution_count": null,
      "outputs": []
    },
    {
      "cell_type": "code",
      "source": [
        "class Node:\n",
        "    def __init__(self,data,level,fval):\n",
        "        \"\"\" Initialize the node with the data, level of the node and the calculated fvalue \"\"\"\n",
        "        self.data = data\n",
        "        self.level = level\n",
        "        self.fval = fval\n",
        "\n",
        "    def generate_child(self):\n",
        "        \"\"\" Generate child nodes from the given node by moving the blank space\n",
        "            either in the four directions {up,down,left,right} \"\"\"\n",
        "        x,y = self.find(self.data,0)\n",
        "        \"\"\" val_list contains position values for moving the blank space in either of\n",
        "            the 4 directions [up,down,left,right] respectively. \"\"\"\n",
        "        val_list = [[x,y-1],[x,y+1],[x-1,y],[x+1,y]]\n",
        "        children = []\n",
        "        for i in val_list:\n",
        "            child = self.shuffle(self.data,x,y,i[0],i[1])\n",
        "            if child is not None:\n",
        "                child_node = Node(child,self.level+1,0)\n",
        "                children.append(child_node)\n",
        "        return children\n",
        "        \n",
        "    def shuffle(self,puz,x1,y1,x2,y2):\n",
        "        \"\"\" Move the blank space in the given direction and if the position value are out\n",
        "            of limits the return None \"\"\"\n",
        "        if x2 >= 0 and x2 < len(self.data) and y2 >= 0 and y2 < len(self.data):\n",
        "            temp_puz = []\n",
        "            temp_puz = self.copy(puz)\n",
        "            temp = temp_puz[x2][y2]\n",
        "            temp_puz[x2][y2] = temp_puz[x1][y1]\n",
        "            temp_puz[x1][y1] = temp\n",
        "            return temp_puz\n",
        "        else:\n",
        "            return None\n",
        "            \n",
        "\n",
        "    def copy(self,root):\n",
        "        \"\"\" Copy function to create a similar matrix of the given node\"\"\"\n",
        "        temp = []\n",
        "        for i in root:\n",
        "            t = []\n",
        "            for j in i:\n",
        "                t.append(j)\n",
        "            temp.append(t)\n",
        "        return temp    \n",
        "            \n",
        "    def find(self,puz,x):\n",
        "        \"\"\" Specifically used to find the position of the blank space \"\"\"\n",
        "        for i in range(0,len(self.data)):\n",
        "            for j in range(0,len(self.data)):\n",
        "                if puz[i][j] == x:\n",
        "                    return i,j"
      ],
      "metadata": {
        "id": "De9urE04VtuR"
      },
      "execution_count": null,
      "outputs": []
    },
    {
      "cell_type": "code",
      "source": [
        "class Puzzle:\n",
        "    def __init__(self,size):\n",
        "        \"\"\" Initialize the puzzle size by the specified size,open and closed lists to empty \"\"\"\n",
        "        self.n = size\n",
        "        self.open = []\n",
        "        self.closed = []\n",
        "\n",
        "    def accept(self):\n",
        "        \"\"\" Accepts the puzzle from the user \"\"\"\n",
        "        puz = []\n",
        "        for i in range(0,self.n):\n",
        "            temp = input().split(\" \")\n",
        "            puz.append(temp)\n",
        "        return puz\n",
        "\n",
        "    def f(self,start,goal):\n",
        "        \"\"\" Heuristic Function to calculate hueristic value f(x) = h(x) + g(x) \"\"\"\n",
        "        return self.h(start.data,goal)+start.level\n",
        "\n",
        "    def h(self,start,goal):\n",
        "        \"\"\" Calculates the different between the given puzzles \"\"\"\n",
        "        temp = 0\n",
        "        for i in range(0,self.n):\n",
        "            for j in range(0,self.n):\n",
        "                if start[i][j] != goal[i][j] and start[i][j] != 0:\n",
        "                    temp += 1\n",
        "        return temp\n",
        "        \n",
        "\n",
        "    def process(self):\n",
        "        start = [[0 for i in range(self.n)] for j in  range(self.n)]\n",
        "        goal = [[0 for i in range(self.n)] for j in  range(self.n)]\n",
        "        with open('A4Source.txt') as fs:\n",
        "            linestart = fs.readlines();\n",
        "        with open('A4Destination.txt') as fd:\n",
        "            linegoal = fd.readlines();\n",
        "            \n",
        "        for i in range(self.n):\n",
        "            l = convertToList(linestart[i])\n",
        "            for j in range(self.n):\n",
        "                start[i][j] = (int)(l[j])\n",
        "\n",
        "        for i in range(self.n):\n",
        "            l = convertToList(linegoal[i])\n",
        "            for j in range(self.n):\n",
        "                goal[i][j] = (int)(l[j])\n",
        "\n",
        "        start = Node(start,0,0)\n",
        "        start.fval = self.f(start,goal)\n",
        "        \"\"\" Put the start node in the open list\"\"\"\n",
        "        self.open.append(start)\n",
        "        print(\"\\n\\n\")\n",
        "        while True:\n",
        "            cur = self.open[0]\n",
        "            print(\"\")\n",
        "            print(\"  | \")\n",
        "            print(\"  | \")\n",
        "            print(\" \\\\\\'/ \\n\")\n",
        "            for i in cur.data:\n",
        "                for j in i:\n",
        "                    print(j,end=\" \")\n",
        "                print(\"\")\n",
        "            \"\"\" If the difference between current and goal node is 0 we have reached the goal node\"\"\"\n",
        "            if(self.h(cur.data,goal) == 0):\n",
        "                break\n",
        "            for i in cur.generate_child():\n",
        "                i.fval = self.f(i,goal)\n",
        "                self.open.append(i)\n",
        "            self.closed.append(cur)\n",
        "            del self.open[0]\n",
        "\n",
        "            \"\"\" sort the opne list based on f value \"\"\"\n",
        "            self.open.sort(key = lambda x:x.fval,reverse=False)"
      ],
      "metadata": {
        "id": "a2J-nVNBV1mb"
      },
      "execution_count": null,
      "outputs": []
    },
    {
      "cell_type": "code",
      "source": [
        "tracemalloc.start()\n",
        "st = time.time()\n",
        "puz = Puzzle(3)\n",
        "puz.process()\n",
        "memory = tracemalloc.get_traced_memory()\n",
        "print()\n",
        "print(\"Current Memory : \",memory[0])\n",
        "print(\"Peak Memory : \", memory[1])\n",
        "et = time.time()\n",
        "print(\"Execution Time : \", et-st, \"seconds\")\n",
        "tracemalloc.stop()"
      ],
      "metadata": {
        "colab": {
          "base_uri": "https://localhost:8080/"
        },
        "id": "1IBJDQQ6V5sv",
        "outputId": "2b6f4406-9809-43fa-807a-bb37b73e2833"
      },
      "execution_count": null,
      "outputs": [
        {
          "output_type": "stream",
          "name": "stdout",
          "text": [
            "\n",
            "\n",
            "\n",
            "\n",
            "  | \n",
            "  | \n",
            " \\'/ \n",
            "\n",
            "1 2 3 \n",
            "5 6 0 \n",
            "7 8 4 \n",
            "\n",
            "  | \n",
            "  | \n",
            " \\'/ \n",
            "\n",
            "1 2 3 \n",
            "5 0 6 \n",
            "7 8 4 \n",
            "\n",
            "  | \n",
            "  | \n",
            " \\'/ \n",
            "\n",
            "1 2 3 \n",
            "5 8 6 \n",
            "7 0 4 \n",
            "\n",
            "  | \n",
            "  | \n",
            " \\'/ \n",
            "\n",
            "1 2 3 \n",
            "5 8 6 \n",
            "0 7 4 \n",
            "\n",
            "Current Memory :  716080\n",
            "Peak Memory :  766236\n",
            "Execution Time :  0.011513471603393555 seconds\n"
          ]
        }
      ]
    }
  ]
}